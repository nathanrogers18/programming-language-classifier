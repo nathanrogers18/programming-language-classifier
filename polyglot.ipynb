{
 "cells": [
  {
   "cell_type": "code",
   "execution_count": 30,
   "metadata": {
    "collapsed": true
   },
   "outputs": [],
   "source": [
    "import csv\n",
    "import pandas as pd\n",
    "import numpy as np\n",
    "from sklearn.feature_extraction.text import CountVectorizer\n",
    "from sklearn.naive_bayes import MultinomialNB\n",
    "from sklearn.grid_search import GridSearchCV\n",
    "from sklearn.pipeline import Pipeline\n",
    "from sklearn.metrics import accuracy_score\n",
    "from sklearn import cross_validation"
   ]
  },
  {
   "cell_type": "code",
   "execution_count": 31,
   "metadata": {
    "collapsed": false
   },
   "outputs": [
    {
     "data": {
      "text/plain": [
       "Language\n",
       "scheme         279\n",
       "php            363\n",
       "javascript     472\n",
       "clojure        480\n",
       "ocaml          498\n",
       "c#             509\n",
       "scala          542\n",
       "common lisp    560\n",
       "haskell        670\n",
       "java           677\n",
       "perl           677\n",
       "c              705\n",
       "ruby           714\n",
       "python         766\n",
       "tcl            776\n",
       "dtype: int64"
      ]
     },
     "execution_count": 31,
     "metadata": {},
     "output_type": "execute_result"
    }
   ],
   "source": [
    "raw_data = pd.read_csv('coding_data.csv', names=['Language', 'Task', 'Code'])\n",
    "data = raw_data[raw_data['Code'] != '`PARSER ERROR']\n",
    "clean_data = pd.DataFrame({'Code': data['Code'],\n",
    "                           'Language': data['Language'].str.lower(),\n",
    "                           'Task': data['Task']})\n",
    "clean_data = clean_data.dropna()\n",
    "clean_data.groupby('Language').size().sort_values()"
   ]
  },
  {
   "cell_type": "markdown",
   "metadata": {},
   "source": [
    "## Analysis of Test Data"
   ]
  },
  {
   "cell_type": "code",
   "execution_count": 32,
   "metadata": {
    "collapsed": false
   },
   "outputs": [],
   "source": [
    "pipe = Pipeline([\n",
    "        ('vect', CountVectorizer(token_pattern=r'[a-zA-Z]+|\\s+|\\_+|[^\\w\\d\\s]', max_df=.4, ngram_range=(1,5))),\n",
    "        ('clf', MultinomialNB(0.0125)),\n",
    "])"
   ]
  },
  {
   "cell_type": "code",
   "execution_count": 33,
   "metadata": {
    "collapsed": false
   },
   "outputs": [
    {
     "data": {
      "text/plain": [
       "Pipeline(steps=[('vect', CountVectorizer(analyzer='word', binary=False, decode_error='strict',\n",
       "        dtype=<class 'numpy.int64'>, encoding='utf-8', input='content',\n",
       "        lowercase=True, max_df=0.4, max_features=None, min_df=1,\n",
       "        ngram_range=(1, 5), preprocessor=None, stop_words=None,\n",
       "        strip_accents=None,\n",
       "        token_pattern='[a-zA-Z]+|\\\\s+|\\\\_+|[^\\\\w\\\\d\\\\s]', tokenizer=None,\n",
       "        vocabulary=None)), ('clf', MultinomialNB(alpha=0.0125, class_prior=None, fit_prior=True))])"
      ]
     },
     "execution_count": 33,
     "metadata": {},
     "output_type": "execute_result"
    }
   ],
   "source": [
    "pipe.fit(clean_data['Code'], clean_data['Language'])"
   ]
  },
  {
   "cell_type": "code",
   "execution_count": 35,
   "metadata": {
    "collapsed": false
   },
   "outputs": [],
   "source": [
    "test_ans = pd.read_csv('test.csv', names=['num', 'test_lang'])\n",
    "\n",
    "test_code = []\n",
    "for i in range(1, 33):\n",
    "    with open('test/{}.txt'.format(i)) as f:\n",
    "        test_code.append(f.read())\n",
    "\n",
    "test_ans['test_code'] = test_code"
   ]
  },
  {
   "cell_type": "code",
   "execution_count": 36,
   "metadata": {
    "collapsed": false
   },
   "outputs": [
    {
     "data": {
      "text/html": [
       "<div>\n",
       "<table border=\"1\" class=\"dataframe\">\n",
       "  <thead>\n",
       "    <tr style=\"text-align: right;\">\n",
       "      <th></th>\n",
       "      <th>num</th>\n",
       "      <th>test_lang</th>\n",
       "      <th>test_code</th>\n",
       "    </tr>\n",
       "  </thead>\n",
       "  <tbody>\n",
       "    <tr>\n",
       "      <th>0</th>\n",
       "      <td>1</td>\n",
       "      <td>clojure</td>\n",
       "      <td>(defn cf-settings\\n  \"Setup settings for campf...</td>\n",
       "    </tr>\n",
       "    <tr>\n",
       "      <th>1</th>\n",
       "      <td>2</td>\n",
       "      <td>clojure</td>\n",
       "      <td>(ns my-cli.core)\\n\\n(defn -main [&amp; args]\\n  (p...</td>\n",
       "    </tr>\n",
       "    <tr>\n",
       "      <th>2</th>\n",
       "      <td>3</td>\n",
       "      <td>clojure</td>\n",
       "      <td>(extend-type String\\n  Person\\n  (first-name [...</td>\n",
       "    </tr>\n",
       "    <tr>\n",
       "      <th>3</th>\n",
       "      <td>4</td>\n",
       "      <td>clojure</td>\n",
       "      <td>(require '[overtone.live :as overtone])\\n\\n(de...</td>\n",
       "    </tr>\n",
       "    <tr>\n",
       "      <th>4</th>\n",
       "      <td>5</td>\n",
       "      <td>python</td>\n",
       "      <td>from pkgutil import iter_modules\\nfrom subproc...</td>\n",
       "    </tr>\n",
       "  </tbody>\n",
       "</table>\n",
       "</div>"
      ],
      "text/plain": [
       "   num test_lang                                          test_code\n",
       "0    1   clojure  (defn cf-settings\\n  \"Setup settings for campf...\n",
       "1    2   clojure  (ns my-cli.core)\\n\\n(defn -main [& args]\\n  (p...\n",
       "2    3   clojure  (extend-type String\\n  Person\\n  (first-name [...\n",
       "3    4   clojure  (require '[overtone.live :as overtone])\\n\\n(de...\n",
       "4    5    python  from pkgutil import iter_modules\\nfrom subproc..."
      ]
     },
     "execution_count": 36,
     "metadata": {},
     "output_type": "execute_result"
    }
   ],
   "source": [
    "test_ans.head()"
   ]
  },
  {
   "cell_type": "code",
   "execution_count": 37,
   "metadata": {
    "collapsed": false
   },
   "outputs": [],
   "source": [
    "predicted_code = pipe.predict(test_ans.test_code)"
   ]
  },
  {
   "cell_type": "code",
   "execution_count": 38,
   "metadata": {
    "collapsed": false
   },
   "outputs": [
    {
     "data": {
      "text/plain": [
       "1.0"
      ]
     },
     "execution_count": 38,
     "metadata": {},
     "output_type": "execute_result"
    }
   ],
   "source": [
    "accuracy_score(test_ans.test_lang, predicted_code)"
   ]
  },
  {
   "cell_type": "markdown",
   "metadata": {},
   "source": [
    "#### Excellent, the model predicted all the text correctly!"
   ]
  },
  {
   "cell_type": "code",
   "execution_count": 39,
   "metadata": {
    "collapsed": false
   },
   "outputs": [
    {
     "data": {
      "text/html": [
       "<div>\n",
       "<table border=\"1\" class=\"dataframe\">\n",
       "  <thead>\n",
       "    <tr style=\"text-align: right;\">\n",
       "      <th></th>\n",
       "      <th>Actual</th>\n",
       "      <th>Predicted</th>\n",
       "    </tr>\n",
       "  </thead>\n",
       "  <tbody>\n",
       "    <tr>\n",
       "      <th>0</th>\n",
       "      <td>clojure</td>\n",
       "      <td>clojure</td>\n",
       "    </tr>\n",
       "    <tr>\n",
       "      <th>1</th>\n",
       "      <td>clojure</td>\n",
       "      <td>clojure</td>\n",
       "    </tr>\n",
       "    <tr>\n",
       "      <th>2</th>\n",
       "      <td>clojure</td>\n",
       "      <td>clojure</td>\n",
       "    </tr>\n",
       "    <tr>\n",
       "      <th>3</th>\n",
       "      <td>clojure</td>\n",
       "      <td>clojure</td>\n",
       "    </tr>\n",
       "    <tr>\n",
       "      <th>4</th>\n",
       "      <td>python</td>\n",
       "      <td>python</td>\n",
       "    </tr>\n",
       "    <tr>\n",
       "      <th>5</th>\n",
       "      <td>python</td>\n",
       "      <td>python</td>\n",
       "    </tr>\n",
       "    <tr>\n",
       "      <th>6</th>\n",
       "      <td>python</td>\n",
       "      <td>python</td>\n",
       "    </tr>\n",
       "    <tr>\n",
       "      <th>7</th>\n",
       "      <td>python</td>\n",
       "      <td>python</td>\n",
       "    </tr>\n",
       "    <tr>\n",
       "      <th>8</th>\n",
       "      <td>javascript</td>\n",
       "      <td>javascript</td>\n",
       "    </tr>\n",
       "    <tr>\n",
       "      <th>9</th>\n",
       "      <td>javascript</td>\n",
       "      <td>javascript</td>\n",
       "    </tr>\n",
       "    <tr>\n",
       "      <th>10</th>\n",
       "      <td>javascript</td>\n",
       "      <td>javascript</td>\n",
       "    </tr>\n",
       "    <tr>\n",
       "      <th>11</th>\n",
       "      <td>javascript</td>\n",
       "      <td>javascript</td>\n",
       "    </tr>\n",
       "    <tr>\n",
       "      <th>12</th>\n",
       "      <td>ruby</td>\n",
       "      <td>ruby</td>\n",
       "    </tr>\n",
       "    <tr>\n",
       "      <th>13</th>\n",
       "      <td>ruby</td>\n",
       "      <td>ruby</td>\n",
       "    </tr>\n",
       "    <tr>\n",
       "      <th>14</th>\n",
       "      <td>ruby</td>\n",
       "      <td>ruby</td>\n",
       "    </tr>\n",
       "    <tr>\n",
       "      <th>15</th>\n",
       "      <td>haskell</td>\n",
       "      <td>haskell</td>\n",
       "    </tr>\n",
       "    <tr>\n",
       "      <th>16</th>\n",
       "      <td>haskell</td>\n",
       "      <td>haskell</td>\n",
       "    </tr>\n",
       "    <tr>\n",
       "      <th>17</th>\n",
       "      <td>haskell</td>\n",
       "      <td>haskell</td>\n",
       "    </tr>\n",
       "    <tr>\n",
       "      <th>18</th>\n",
       "      <td>scheme</td>\n",
       "      <td>scheme</td>\n",
       "    </tr>\n",
       "    <tr>\n",
       "      <th>19</th>\n",
       "      <td>scheme</td>\n",
       "      <td>scheme</td>\n",
       "    </tr>\n",
       "    <tr>\n",
       "      <th>20</th>\n",
       "      <td>scheme</td>\n",
       "      <td>scheme</td>\n",
       "    </tr>\n",
       "    <tr>\n",
       "      <th>21</th>\n",
       "      <td>java</td>\n",
       "      <td>java</td>\n",
       "    </tr>\n",
       "    <tr>\n",
       "      <th>22</th>\n",
       "      <td>java</td>\n",
       "      <td>java</td>\n",
       "    </tr>\n",
       "    <tr>\n",
       "      <th>23</th>\n",
       "      <td>scala</td>\n",
       "      <td>scala</td>\n",
       "    </tr>\n",
       "    <tr>\n",
       "      <th>24</th>\n",
       "      <td>scala</td>\n",
       "      <td>scala</td>\n",
       "    </tr>\n",
       "    <tr>\n",
       "      <th>25</th>\n",
       "      <td>tcl</td>\n",
       "      <td>tcl</td>\n",
       "    </tr>\n",
       "    <tr>\n",
       "      <th>26</th>\n",
       "      <td>tcl</td>\n",
       "      <td>tcl</td>\n",
       "    </tr>\n",
       "    <tr>\n",
       "      <th>27</th>\n",
       "      <td>php</td>\n",
       "      <td>php</td>\n",
       "    </tr>\n",
       "    <tr>\n",
       "      <th>28</th>\n",
       "      <td>php</td>\n",
       "      <td>php</td>\n",
       "    </tr>\n",
       "    <tr>\n",
       "      <th>29</th>\n",
       "      <td>php</td>\n",
       "      <td>php</td>\n",
       "    </tr>\n",
       "    <tr>\n",
       "      <th>30</th>\n",
       "      <td>ocaml</td>\n",
       "      <td>ocaml</td>\n",
       "    </tr>\n",
       "    <tr>\n",
       "      <th>31</th>\n",
       "      <td>ocaml</td>\n",
       "      <td>ocaml</td>\n",
       "    </tr>\n",
       "  </tbody>\n",
       "</table>\n",
       "</div>"
      ],
      "text/plain": [
       "        Actual   Predicted\n",
       "0      clojure     clojure\n",
       "1      clojure     clojure\n",
       "2      clojure     clojure\n",
       "3      clojure     clojure\n",
       "4       python      python\n",
       "5       python      python\n",
       "6       python      python\n",
       "7       python      python\n",
       "8   javascript  javascript\n",
       "9   javascript  javascript\n",
       "10  javascript  javascript\n",
       "11  javascript  javascript\n",
       "12        ruby        ruby\n",
       "13        ruby        ruby\n",
       "14        ruby        ruby\n",
       "15     haskell     haskell\n",
       "16     haskell     haskell\n",
       "17     haskell     haskell\n",
       "18      scheme      scheme\n",
       "19      scheme      scheme\n",
       "20      scheme      scheme\n",
       "21        java        java\n",
       "22        java        java\n",
       "23       scala       scala\n",
       "24       scala       scala\n",
       "25         tcl         tcl\n",
       "26         tcl         tcl\n",
       "27         php         php\n",
       "28         php         php\n",
       "29         php         php\n",
       "30       ocaml       ocaml\n",
       "31       ocaml       ocaml"
      ]
     },
     "execution_count": 39,
     "metadata": {},
     "output_type": "execute_result"
    }
   ],
   "source": [
    "pd.DataFrame({\"Actual\": test_ans['test_lang'], \"Predicted\": predicted_code})\n"
   ]
  },
  {
   "cell_type": "markdown",
   "metadata": {},
   "source": [
    "## Analysis of Training Data for Optimal Parameters"
   ]
  },
  {
   "cell_type": "code",
   "execution_count": 6,
   "metadata": {
    "collapsed": false
   },
   "outputs": [],
   "source": [
    "pipeline = Pipeline([\n",
    "        ('vect', CountVectorizer(token_pattern=r'[a-zA-Z]+|\\s+|\\_+|[^\\w\\d\\s]')),\n",
    "        ('clf', MultinomialNB()),])\n",
    "# k = pipeline.get_params().items()\n",
    "# for a in k:\n",
    "#     print(a)"
   ]
  },
  {
   "cell_type": "code",
   "execution_count": 7,
   "metadata": {
    "collapsed": false
   },
   "outputs": [],
   "source": [
    "parameters = {\n",
    "    'vect__max_df': (0.35, 0.4),\n",
    "    'vect__ngram_range': ((1, 3), (1, 4)),\n",
    "    'clf__alpha': (0.125, 0.01, 0.015),\n",
    "}"
   ]
  },
  {
   "cell_type": "code",
   "execution_count": 8,
   "metadata": {
    "collapsed": false
   },
   "outputs": [],
   "source": [
    "grid_search = GridSearchCV(pipeline, parameters, n_jobs=-1, verbose=1)"
   ]
  },
  {
   "cell_type": "markdown",
   "metadata": {},
   "source": [
    "Since adding Tcl and Javascript to the csv, this no longer seems to be working.  Will leave this in for reference as to how I came upon the parameters used, but it seems no longer needed to optimize, as it correctly predicted all tests."
   ]
  },
  {
   "cell_type": "code",
   "execution_count": 29,
   "metadata": {
    "collapsed": false
   },
   "outputs": [],
   "source": [
    "# grid_search.fit(data['Code'], data['Language'])"
   ]
  },
  {
   "cell_type": "code",
   "execution_count": null,
   "metadata": {
    "collapsed": false
   },
   "outputs": [],
   "source": [
    "# best_parameters = grid_search.best_estimator_.get_params()\n",
    "# for param_name in sorted(parameters.keys()):\n",
    "#     print(\"\\t%s: %r\" % (param_name, best_parameters[param_name]))"
   ]
  },
  {
   "cell_type": "code",
   "execution_count": null,
   "metadata": {
    "collapsed": false
   },
   "outputs": [],
   "source": [
    "# scores = cross_validation.cross_val_score(pipeline, data['Code'], data['Language'], cv=10)"
   ]
  }
 ],
 "metadata": {
  "kernelspec": {
   "display_name": "Python 3",
   "language": "python",
   "name": "python3"
  },
  "language_info": {
   "codemirror_mode": {
    "name": "ipython",
    "version": 3
   },
   "file_extension": ".py",
   "mimetype": "text/x-python",
   "name": "python",
   "nbconvert_exporter": "python",
   "pygments_lexer": "ipython3",
   "version": "3.5.1"
  }
 },
 "nbformat": 4,
 "nbformat_minor": 0
}
